{
 "cells": [
  {
   "cell_type": "markdown",
   "id": "75dce9ab-3beb-420f-a494-81c6cf506081",
   "metadata": {},
   "source": [
    "# Statistics basics assignment"
   ]
  },
  {
   "cell_type": "markdown",
   "id": "18c7fcdd-e263-4905-b90a-78ec60b9f38f",
   "metadata": {},
   "source": [
    "### 1. What is Statistics?"
   ]
  },
  {
   "cell_type": "markdown",
   "id": "ce3d529c-f869-4661-b88e-5db91d809ea7",
   "metadata": {},
   "source": [
    "Ans.1 Statistics is the branch of mathematics that deals with collecting, analyzing, interpreting, and presenting data. It helps in making informed decisions based on data patterns and trends."
   ]
  },
  {
   "cell_type": "markdown",
   "id": "ebeba261-63c2-4a3f-beb3-688f8feaddbb",
   "metadata": {},
   "source": [
    "### 2. Define the different types of statistics and give an example of when each type might be used."
   ]
  },
  {
   "cell_type": "markdown",
   "id": "4163e5ff-1121-4618-9518-f00ef3674c37",
   "metadata": {},
   "source": [
    "Ans2. Descriptive Statistics: Consisting of organising and summarising data.\n",
    "It contains:\n",
    "- Measure of central tendency- Mean, Median , Mode\n",
    "- Measure of dispersion \n",
    "- Diferent types of Distribution of data eg: Histogram \n",
    "Example: Calculating the average income of employees in a company.\n",
    "\n",
    "Inferential Statistics:Use of data you have measured to form conclusion \n",
    "- Z-test- hypothesis testing ,H0,H1\n",
    "- Y-test- P-value, significance value\n",
    "- Chi-Square test\n",
    "Example: Estimating the average weight of all mangoes based on a sample.\n"
   ]
  },
  {
   "cell_type": "markdown",
   "id": "afa1c110-b6e2-44e9-bc25-3dd591c7dda8",
   "metadata": {},
   "source": [
    "### Q3. What are the different types of data and how do they differ from each other? Provide an example of each."
   ]
  },
  {
   "cell_type": "markdown",
   "id": "cbad73d9-7f21-4cdc-8b8e-250fe383a669",
   "metadata": {},
   "source": [
    "Ans2.\n",
    "1.Quantitative Data (Numerical): Deals with numeric data    \n",
    "- Discrete: Countable contains whole number (e.g., number of bank a/c, No. of children,number of mangoes = 30)\n",
    "- Continuous: Measurable (e.g., temperature,speed, distance,height = 175.5 cm)\n",
    "        \n",
    "2.Qualitative Data (Categorical): Describes characteristics.\n",
    "- Nominal: No order,no ranks are assigned(e.g., mango color: green, yellow)\n",
    "- Ordinal: Ordered, ranks are assigned(e.g.,customer feedback: good,bad, grades: A+, B, C)"
   ]
  },
  {
   "cell_type": "markdown",
   "id": "d5fa7167-fd6e-4fb9-a068-29af2de2c563",
   "metadata": {},
   "source": [
    "### Q4. Categorize the following datasets:"
   ]
  },
  {
   "cell_type": "markdown",
   "id": "9c007c96-3997-402a-ab06-cf7af4cca278",
   "metadata": {},
   "source": [
    "Dataset\tType\n",
    "- (i) Grading in exam: A+, A, B+, B, C+, C, D, E\n",
    "       -Qualitative – Ordinal\n",
    "- (ii) Colour of mangoes: yellow, green, orange, red\n",
    "        -Qualitative – Nominal\n",
    "- (iii) Height data of a class: [178.9, 179, ...]\n",
    "        -Quantitative – Continuous\n",
    "- (iv) Number of mangoes exported: [500, 600, ...]\n",
    "       - Quantitative – Discrete"
   ]
  },
  {
   "cell_type": "markdown",
   "id": "767c976d-722b-41a0-9b74-1e7fa5e4cef1",
   "metadata": {},
   "source": [
    "### Q5. Explain the concept of levels of measurement and give an example of a variable for each."
   ]
  },
  {
   "cell_type": "markdown",
   "id": "a2a883dc-d970-46f7-bfbf-c91bb383d8d7",
   "metadata": {},
   "source": [
    "- Nominal Scale Data : Qualitative/Categorial data, here order does not matter (e.g., gender)\n",
    "\n",
    "- Ordinal scale data: Here ranking is important,order matters,difference cannot be measured(e.g., satisfaction level: low, medium, high)\n",
    "\n",
    "- Interval scale data: Numeric scale with equal intervals but no true 0 starting point,Order matters,Difference can be measured,ratio differece cannot be measured(e.g., temperature in °C)\n",
    "\n",
    "- Ratio scale data: Like interval but has a true zero starting point, Order Matters,Differences are measurable(e.g., income, student marks in class)"
   ]
  },
  {
   "cell_type": "markdown",
   "id": "5abbb1a7-b7a9-422a-b69c-e98d348ba0c6",
   "metadata": {},
   "source": [
    "### Q6. Why is it important to understand the level of measurement when analyzing data?"
   ]
  },
  {
   "cell_type": "markdown",
   "id": "55902d9a-e64c-424f-bba9-46230ca74821",
   "metadata": {},
   "source": [
    "Different levels of measurement determine the type of statistical analysis that can be performed.\n",
    "Example: You can calculate the mean for ratio data (e.g., income), but not for nominal data (e.g., color)."
   ]
  },
  {
   "cell_type": "markdown",
   "id": "4cb651a8-5597-43ad-84ae-a09bd78b7a73",
   "metadata": {},
   "source": [
    "### Q7. How is nominal data type different from ordinal data type?"
   ]
  },
  {
   "cell_type": "markdown",
   "id": "80291737-2f31-413c-baa0-7d838b3e6fcd",
   "metadata": {},
   "source": [
    "Nominal: No inherent order,No ranks are assigned (e.g., hair color: black, brown)\n",
    "\n",
    "Ordinal: Here ranking is important , order matters and difference can be measured (e.g., movie rating: poor, average, excellent)"
   ]
  },
  {
   "cell_type": "markdown",
   "id": "c8e3c96e-1859-4789-a8d3-c913e6e32d6b",
   "metadata": {},
   "source": [
    "### Q8. Which type of plot can be used to display data in terms of range?"
   ]
  },
  {
   "cell_type": "markdown",
   "id": "139944ec-e530-4c84-a121-74d6e3fc1fe1",
   "metadata": {},
   "source": [
    "Box plot (box-and-whisker plot)\n",
    "It displays the minimum, Q1, median, Q3, and maximum — showing data distribution and range."
   ]
  },
  {
   "cell_type": "markdown",
   "id": "a8e59386-a6bb-4008-9d93-790b73997d57",
   "metadata": {},
   "source": [
    "### Q9. Describe the difference between descriptive and inferential statistics."
   ]
  },
  {
   "cell_type": "markdown",
   "id": "87234722-efb5-4f0d-854f-d7f6bf58bafc",
   "metadata": {},
   "source": [
    "Descriptive: Describes data, consisting of organising and summarising data(mean, median, mode).\n",
    "Example: Average score in a class.\n",
    "\n",
    "Inferential: Makes predictions using samples, use the data you have measured to form conclusion\n",
    "Example: Estimating population opinion from a survey."
   ]
  },
  {
   "cell_type": "markdown",
   "id": "63200c95-296c-417a-816d-48044c11a8c9",
   "metadata": {},
   "source": [
    "### Q10. What are some common measures of central tendency and variability?\n",
    "- Central Tendency:\n",
    "Mean: Average value\n",
    "\n",
    "Median: Middle value\n",
    "\n",
    "Mode: Most frequent value\n",
    "\n",
    "- Variability:\n",
    "Range: Max – Min\n",
    "\n",
    "Variance: Spread of data\n",
    "\n",
    "Standard Deviation: Average distance from mean"
   ]
  }
 ],
 "metadata": {
  "kernelspec": {
   "display_name": "Python 3 (ipykernel)",
   "language": "python",
   "name": "python3"
  },
  "language_info": {
   "codemirror_mode": {
    "name": "ipython",
    "version": 3
   },
   "file_extension": ".py",
   "mimetype": "text/x-python",
   "name": "python",
   "nbconvert_exporter": "python",
   "pygments_lexer": "ipython3",
   "version": "3.12.7"
  }
 },
 "nbformat": 4,
 "nbformat_minor": 5
}
